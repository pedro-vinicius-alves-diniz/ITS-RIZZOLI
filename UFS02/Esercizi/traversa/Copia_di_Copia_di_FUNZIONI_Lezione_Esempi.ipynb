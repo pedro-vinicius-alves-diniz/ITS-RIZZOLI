{
  "cells": [
    {
      "cell_type": "markdown",
      "metadata": {
        "id": "HhLNZmXRU1eX"
      },
      "source": [
        "# Le Funzioni\n",
        "\n",
        "### Definizione\n",
        "\n",
        "Il blocco di codice in cui si definisce una funzione ha la seguente struttura:\n",
        "\n",
        "def nome_funzione(input1,input2):\n",
        "\n",
        "    #corpo della funzione: qui si fa qualcosa ... ...\n",
        "    \n",
        "    return valore_restituito #(anche nulla oppure più valori)\n",
        "\n",
        "In pratica:\n"
      ]
    },
    {
      "cell_type": "code",
      "execution_count": null,
      "metadata": {
        "id": "hlFEVb8bU1ed"
      },
      "outputs": [],
      "source": [
        "#definisco una funzione che accetta un parametro e ritorna un valore\n",
        "def quadrato(a):\n",
        "    b = a**2\n",
        "    return b"
      ]
    },
    {
      "cell_type": "markdown",
      "metadata": {
        "id": "XTq5ROj3U1ef"
      },
      "source": [
        "Da notare:\n",
        "- il blocco di codice inizia con def\n",
        "- dopo def segue, sulla stessa riga tra parentesi tonde, la lista dei parametri separati da virgole\n",
        "- segue,sulla stessa riga, il carattere :\n",
        "- dopo i due punti segue il corpo della funzione che, in genere, e' a un (1) livello di indentazione superiore\n",
        "- la funzione termina con l'istruzione return, seguita eventualmente dai valori restituiti\n",
        "- Terminata la funzione si scende di un livello nell indentazione\n"
      ]
    },
    {
      "cell_type": "markdown",
      "metadata": {
        "id": "jITshaoYU1eg"
      },
      "source": [
        "### Esecuzione\n",
        "definire una funzione non vuol dire eseguirla!!\n"
      ]
    },
    {
      "cell_type": "code",
      "execution_count": null,
      "metadata": {
        "id": "Hf-SwSw_U1eh"
      },
      "outputs": [],
      "source": [
        "# Chiamata della Funzione\n",
        "num = 15\n",
        "quadrato = quadrato(num)\n",
        "\n",
        "print(quadrato)"
      ]
    },
    {
      "cell_type": "markdown",
      "metadata": {
        "id": "SK5hBC1lU1ei"
      },
      "source": [
        "## Passaggio di argomenti a una funzione\n",
        "\n",
        "Abbiamo visto solo una tipologia di passaggio di argomenti a funzioni. In realta' ne esistono 4 (come vedremo l'ordinamento della seguente lista e' significativo):\n",
        "- I. per posizione\n",
        "- II. per nome\n",
        "- III. per posizione in numero variabile\n",
        "- IV. per nome in numero variabile\n"
      ]
    },
    {
      "cell_type": "code",
      "execution_count": null,
      "metadata": {
        "id": "2P2qTgN4U1ei"
      },
      "outputs": [],
      "source": [
        " def funz(a,b,c,d):\n",
        "        \"\"\"Funzione per prova passaggio argomenti \"\"\"\n",
        "        print('-'*15)\n",
        "        print('a = ',a)\n",
        "        print('b = ',b)\n",
        "        print('c = ',c)\n",
        "        print('d = ',d)\n",
        "        return\n"
      ]
    },
    {
      "cell_type": "markdown",
      "metadata": {
        "id": "KaomHJufU1ej"
      },
      "source": [
        "### 1) per posizione"
      ]
    },
    {
      "cell_type": "code",
      "execution_count": null,
      "metadata": {
        "id": "e74gktWMU1ek"
      },
      "outputs": [],
      "source": [
        "#si associa un valore ad ogni parametro in base all'ordine con cui passo gli argomenti:\n",
        "funz(1,'ciao',3.55,[1,2,3,4])\n"
      ]
    },
    {
      "cell_type": "markdown",
      "metadata": {
        "id": "50NhbJsAU1ek"
      },
      "source": [
        "Per come e' definita la funzione devo sempre specificare 4 argomenti:\n"
      ]
    },
    {
      "cell_type": "code",
      "execution_count": null,
      "metadata": {
        "id": "XSVwiJ1zU1el"
      },
      "outputs": [],
      "source": [
        "funz(3,4,5)\n"
      ]
    },
    {
      "cell_type": "markdown",
      "metadata": {
        "id": "5KjhqIlrU1el"
      },
      "source": [
        "### 2) per nome\n",
        "\n",
        "Uso la sintassi nomeparametro = argomento In questo caso gli argomenti passati per nome possono essere ordinati a piacere:\n"
      ]
    },
    {
      "cell_type": "code",
      "execution_count": null,
      "metadata": {
        "id": "_T3n1S6tU1em"
      },
      "outputs": [],
      "source": [
        "funz(a=33,b=3,c=2,d=1)\n",
        "funz(d=1,c=2,b=3,a=33)\n"
      ]
    },
    {
      "cell_type": "markdown",
      "metadata": {
        "id": "PDIjLkIJU1em"
      },
      "source": [
        "Posso anche mischiare il passaggio per posizione e quello per nome ma solo in modo ordinato: prima quelli per posizione e poi quelli per nome.\n"
      ]
    },
    {
      "cell_type": "code",
      "execution_count": null,
      "metadata": {
        "id": "qiIYgUVbU1em"
      },
      "outputs": [],
      "source": [
        "#questo lo posso fare, prima per posizione, poi per nome\n",
        "funz(1, 2, d=4, c=3)"
      ]
    },
    {
      "cell_type": "code",
      "execution_count": null,
      "metadata": {
        "id": "mrd1bATlU1em"
      },
      "outputs": [],
      "source": [
        "funz(1, 2, a=4, c=3)\n"
      ]
    },
    {
      "cell_type": "markdown",
      "metadata": {
        "id": "PBgrLdDkU1en"
      },
      "source": [
        "di contro non posso passare parametri per nome prima di parametri posizionali\n"
      ]
    },
    {
      "cell_type": "code",
      "execution_count": null,
      "metadata": {
        "id": "KbNiD6E-U1en"
      },
      "outputs": [],
      "source": [
        "funz(a=1,2,3,4)"
      ]
    },
    {
      "cell_type": "markdown",
      "metadata": {
        "id": "GnMGNMUQU1en"
      },
      "source": [
        "### 3) per posizione in numero variabile (*args)\n",
        "\n",
        "Posso definire una funzione in modo che accetti un numero variabile di argomenti passati per posizione:"
      ]
    },
    {
      "cell_type": "code",
      "execution_count": null,
      "metadata": {
        "id": "tdC8l1GhU1en"
      },
      "outputs": [],
      "source": [
        "def funz2(*args):\n",
        "    print('-'*15)\n",
        "\n",
        "    for arg  in args:\n",
        "        print(arg)\n"
      ]
    },
    {
      "cell_type": "markdown",
      "metadata": {
        "id": "UEH0W4vlU1eo"
      },
      "source": [
        "vediamo un esempio di utilizzo:\n"
      ]
    },
    {
      "cell_type": "code",
      "execution_count": null,
      "metadata": {
        "id": "8uBX0-JgU1eo"
      },
      "outputs": [],
      "source": [
        "funz2()\n",
        "funz2(1)\n",
        "funz2(1,2,3)\n",
        "funz2(1,[2,3],'ciao')"
      ]
    },
    {
      "cell_type": "markdown",
      "metadata": {
        "id": "ez0k1ymCU1eo"
      },
      "source": [
        "La notazione *args e' uno standard in Python ma l'interprete accetterebbe qualsiasi nome dopo l'asterisco."
      ]
    },
    {
      "cell_type": "code",
      "execution_count": null,
      "metadata": {
        "id": "7nRVeAzBU1eo"
      },
      "outputs": [],
      "source": [
        "def funz3(*argomenti):\n",
        "    print(type(argomenti))\n",
        "    print('-'*15)\n",
        "    for arg in argomenti:\n",
        "        print(arg)\n",
        "\n",
        "\n",
        "funz3(1,2,3,4,5,'ciao')"
      ]
    },
    {
      "cell_type": "markdown",
      "metadata": {
        "id": "mRtCA14tU1eo"
      },
      "source": [
        "Python interpreta il nome che segue l'asterisco come una tupla! Non posso passare nessun argomento per nome a una funzione come funz3!!!\n"
      ]
    },
    {
      "cell_type": "code",
      "execution_count": null,
      "metadata": {
        "id": "Pf6uiC1vU1ep"
      },
      "outputs": [],
      "source": [
        "funz3((2,3))"
      ]
    },
    {
      "cell_type": "markdown",
      "metadata": {
        "id": "iFgdr-xGU1ep"
      },
      "source": [
        "### 4) per nome in numero variabile (**kwargs)\n",
        "\n",
        "Uso il doppio asterisco nella definizione della funzione:"
      ]
    },
    {
      "cell_type": "code",
      "execution_count": null,
      "metadata": {
        "id": "bGK_zkYrU1ep"
      },
      "outputs": [],
      "source": [
        "def funz4(**kwargs):\n",
        "    print(type(kwargs))\n",
        "    print(kwargs)\n",
        "    return\n",
        "\n",
        "\n",
        "funz4(b=2, a=1)\n",
        "\n",
        "funz4(f=2,chiave=5)"
      ]
    },
    {
      "cell_type": "markdown",
      "metadata": {
        "id": "5wPtP6-fU1ep"
      },
      "source": [
        "Quindi kwargs (o meglio il nome che segue il doppio asterisco) e' un dizionario che contiene come chiavi i nomi dei parametri e come valori il valori del parametro associato"
      ]
    },
    {
      "cell_type": "code",
      "execution_count": null,
      "metadata": {
        "id": "w11hDznnU1ep"
      },
      "outputs": [],
      "source": [
        "def funz4(**kwargs):\n",
        "    print('-'*15)\n",
        "    for key in kwargs:\n",
        "        print(key,'=',kwargs[key])\n",
        "\n",
        "funz4(a=1,b=2)\n",
        "#funz4(1,b=2)"
      ]
    },
    {
      "cell_type": "markdown",
      "metadata": {
        "id": "oavRJRi-U1eq"
      },
      "source": [
        "Non posso passare alcun argomento per posizione a funz4\n"
      ]
    },
    {
      "cell_type": "code",
      "execution_count": null,
      "metadata": {
        "id": "_eAkSzatU1er"
      },
      "outputs": [],
      "source": [
        "funz4(1,b=2)"
      ]
    },
    {
      "cell_type": "markdown",
      "metadata": {
        "id": "sT8dpKoQU1er"
      },
      "source": [
        "### 3+4) funzioni che accettano un numero variabile di argomenti per posizione e per nome (__*args__, **kwargs)\n",
        "\n",
        "combinando le due ultime opzioni e' possibile definire funzioni che accettano un numero qualsiasi di argomenti sia per posizione sia per nome"
      ]
    },
    {
      "cell_type": "code",
      "execution_count": null,
      "metadata": {
        "id": "Y3Dj8WS-U1er"
      },
      "outputs": [],
      "source": [
        "def funz5(*args,**kwargs):\n",
        "    print('-'*20)\n",
        "\n",
        "    #itero sugli argomenti posizionali\n",
        "    for i,arg in enumerate(args):\n",
        "        print('posizionale n.{0} = {1}'.format(i+1,arg))\n",
        "\n",
        "    #itero sugli argomenti passati per nome\n",
        "    for key in kwargs:\n",
        "        print(key,' = ',kwargs[key])\n"
      ]
    },
    {
      "cell_type": "code",
      "execution_count": null,
      "metadata": {
        "id": "ufY5vyUCU1es"
      },
      "outputs": [],
      "source": [
        "funz5(1)\n"
      ]
    },
    {
      "cell_type": "code",
      "execution_count": null,
      "metadata": {
        "id": "or9e8OOrU1es"
      },
      "outputs": [],
      "source": [
        "funz5(1,2,a=3)\n"
      ]
    },
    {
      "cell_type": "code",
      "execution_count": null,
      "metadata": {
        "id": "I-jDUOgYU1es"
      },
      "outputs": [],
      "source": [
        "funz5('ciao',1,a=4.3,b=[1,2],c={1:2,'a':3})"
      ]
    },
    {
      "cell_type": "markdown",
      "metadata": {
        "id": "3eds-ObRU1es"
      },
      "source": [
        "### Gli operatori di assegnamento 'splat' (o starred assignment)\n",
        "\n",
        "In Python 3, la possibilità di lavorare con un numero indefinito di parametri è stata estesa anche all'operatore di assegnamento oltre che agli argomenti delle funzioni. Vediamo come:\n"
      ]
    },
    {
      "cell_type": "code",
      "execution_count": null,
      "metadata": {
        "id": "ZXjz5vA7U1et"
      },
      "outputs": [],
      "source": [
        "## STARRED ASSIGNMENT ##\n",
        "\n",
        "l = range(5)\n",
        "a,*b =  l\n",
        "\n",
        "print('a=',a)\n",
        "print('b=',b)"
      ]
    },
    {
      "cell_type": "markdown",
      "metadata": {
        "id": "OJ1yS7ZNU1e0"
      },
      "source": [
        "l'espressione di assegnamento sopra è equivalente a:\n"
      ]
    },
    {
      "cell_type": "code",
      "execution_count": null,
      "metadata": {
        "id": "OjaKWCL2U1e0"
      },
      "outputs": [],
      "source": [
        "a = l[0]\n",
        "b = list(l[1:])\n",
        "\n",
        "print('a=',a)\n",
        "print('b=',b)"
      ]
    },
    {
      "cell_type": "markdown",
      "metadata": {
        "id": "d3WrLrX_U1e1"
      },
      "source": [
        "l'operatore di assegnamento starred può essere usato nello stesso contesto anche nei seguenti modi\n"
      ]
    },
    {
      "cell_type": "code",
      "execution_count": null,
      "metadata": {
        "id": "ONuCH2NEU1e1"
      },
      "outputs": [],
      "source": [
        "*a,b = range(5)\n",
        "print('a=',a)\n",
        "print('b=',b)"
      ]
    },
    {
      "cell_type": "code",
      "execution_count": null,
      "metadata": {
        "id": "JBnIARZwU1e1"
      },
      "outputs": [],
      "source": [
        "a,*b,c = range(5)\n",
        "print('a=',a)\n",
        "print('b=',b)\n",
        "print('c=',c)"
      ]
    },
    {
      "cell_type": "code",
      "execution_count": null,
      "metadata": {
        "id": "6d6pNmerU1e1"
      },
      "outputs": [],
      "source": [
        "a,*b,c = range(10)\n",
        "print('a=',a)\n",
        "print('b=',b)\n",
        "print('c=',c)\n"
      ]
    },
    {
      "cell_type": "markdown",
      "metadata": {
        "id": "XUZwPqJwU1e1"
      },
      "source": [
        "## Modifica del valore di una variabile passata come parametro ad una funzione (passaggio per valore/argomento)\n",
        "\n",
        "E' possibile modificare il valore di una variabile passata come parametro ad una funzione in modo che tale modifica permanga anche quando la funzione e' terminata?\n",
        "\n",
        "A tale scopo alcuni linguaggi (come il C++) introducono la distinzione tra passaggio per valore e per riferimento (puntatori).\n",
        "\n",
        "Anche in python esiste questa distinzione anche se meno esplicita e più sottile.\n",
        "\n",
        "Cio' nondimeno esiste una regola chiara riassumibile nei seguenti punti:\n",
        "- I parametri passati alla funzione sono riferimenti a oggetti e non gli oggetti stessi.\n",
        "- se il parametro e' di tipo **NON-MUTABLE** la funzione (ma non solo lei) non potra' modificare in-place il valore della variabile (*).\n",
        "- se il parametro e' di tipo **MUTABLE** la funzione puo' EVENTUALMENTE modificare in-place il valore della variabile in modo che tale modifica permanga una volta che la funzione e' terminata.\n",
        "\n",
        "(*) sara' eventualmente possibile assegnare un nuovo oggetto al nome della variabile passata come parametro, ma per vedere questo dovremo riferirci al paragrafo dedicato alla __Modifica di variabili globali in funzioni__\n",
        "\n",
        "vediamo un esempio:"
      ]
    },
    {
      "cell_type": "code",
      "execution_count": null,
      "metadata": {
        "id": "Rv3hVUHiU1e2"
      },
      "outputs": [],
      "source": [
        "def prova_a_modificare(x,y,z):\n",
        "    #associo un nuovo oggetto al nome x\n",
        "    x = 23\n",
        "    #modifico in-place l'oggetto associato al nome y\n",
        "    y.append(2)\n",
        "    #associo un nuovo oggetto al nome z\n",
        "    z = [1,2,3]\n",
        "\n",
        "    print('-'*20)\n",
        "    print('x = ',x)\n",
        "    print('y = ',y)\n",
        "    print('z = ',z)\n",
        "    print('-'*20)"
      ]
    },
    {
      "cell_type": "markdown",
      "metadata": {
        "id": "o4m0g24MU1e2"
      },
      "source": [
        "usiamo la funzione definita sopra"
      ]
    },
    {
      "cell_type": "code",
      "execution_count": null,
      "metadata": {
        "id": "IS-w79GgU1e2"
      },
      "outputs": [],
      "source": [
        "a = 1      # int,  non-mutable\n",
        "b = ['b']  # list, mutable\n",
        "c = ['c']  # list, mutable\n",
        "\n",
        "print('prima')\n",
        "print('a = ',a)\n",
        "print('b = ',b)\n",
        "print('c = ',c)\n",
        "\n",
        "# Qui stamperà i parametri dal'interno della funzione\n",
        "prova_a_modificare(a,b,c)\n",
        "\n",
        "print('dopo')\n",
        "print('a = ',a)\n",
        "print('b = ',b)\n",
        "print('c = ',c)"
      ]
    },
    {
      "cell_type": "markdown",
      "metadata": {
        "id": "7ITlEukaU1e2"
      },
      "source": [
        "### PARAMETRI DI DEFAULT\n",
        "\n",
        "I parametri di una funzione, possono anche avere un valore di default, che viene assunto quando non diversamente specificato"
      ]
    },
    {
      "cell_type": "code",
      "execution_count": null,
      "metadata": {
        "id": "5yTsZ5LmU1e3"
      },
      "outputs": [],
      "source": [
        "def funz6(a=-1):\n",
        "    print('a = ',a)\n",
        "    return\n",
        "\n",
        "#se non passo alcun argomento il parametro assume il valore di default\n",
        "funz6()\n",
        "funz6(10)"
      ]
    },
    {
      "cell_type": "markdown",
      "metadata": {
        "id": "pHPepn0EU1e3"
      },
      "source": [
        "### I parametri di default sono valutati nel momento in cui la funzione e' definita\n",
        "\n",
        "... e non ogni volta che la funzione e' eseguita.\n",
        "\n",
        "Cio' e' evidente con il seguente esempio:\n"
      ]
    },
    {
      "cell_type": "code",
      "execution_count": null,
      "metadata": {
        "id": "D4R8T3FPU1e3"
      },
      "outputs": [],
      "source": [
        "#definisco una variabile myx\n",
        "myx = 10\n",
        "\n",
        "#il parametro di default viene valutato quando myx vale 10\n",
        "def percinque(x = myx):\n",
        "    return x*2\n",
        "\n",
        "#richiamo lafunzione senza passarle il parametro\n",
        "print(percinque())\n",
        "\n",
        "#se adesso assegno un nuovo valore a myx\n",
        "myx=1000\n",
        "\n",
        "# richiamo la funzione\n",
        "print(percinque())"
      ]
    },
    {
      "cell_type": "markdown",
      "metadata": {
        "id": "M5kkM0zmU1e3"
      },
      "source": [
        "### Attenzione ai parametri di default mutable!!\n",
        "\n",
        "In relazione a quanto detto sopra si puo' capire perche' vale la raccomandazione che ai parametri di default dovrebbero essere assegnati oggetti NON mutable. Vediamo un esempio di cosa puo' succedere altrimenti\n",
        "\n",
        "definisco una funzione che determina gli elementi positivi in una sequenza e li aggiunge ad una lista"
      ]
    },
    {
      "cell_type": "code",
      "execution_count": null,
      "metadata": {
        "id": "U6_1ur5HU1e4"
      },
      "outputs": [],
      "source": [
        "def positivi(lista , pos=[]):\n",
        "    for v in lista:\n",
        "        if v>0:\n",
        "            pos.append(v)\n",
        "    return pos\n"
      ]
    },
    {
      "cell_type": "markdown",
      "metadata": {
        "id": "jHeLsvMyU1e4"
      },
      "source": [
        "La prima chiamata a positivi sembra funzionare bene:\n"
      ]
    },
    {
      "cell_type": "code",
      "execution_count": null,
      "metadata": {
        "id": "8J0E0598U1e4"
      },
      "outputs": [],
      "source": [
        "positivi([-1,3,4,-22,0])\n"
      ]
    },
    {
      "cell_type": "markdown",
      "metadata": {
        "id": "z7lwP_a6U1e4"
      },
      "source": [
        "ma la seconda chiamata...\n"
      ]
    },
    {
      "cell_type": "code",
      "execution_count": null,
      "metadata": {
        "id": "lJd0tLJRU1e5"
      },
      "outputs": [],
      "source": [
        "positivi([1000,-2,-3,55.2])\n"
      ]
    },
    {
      "cell_type": "markdown",
      "metadata": {
        "id": "DnrngAv3U1e5"
      },
      "source": [
        "### Questo accade perche' l'istruzione pos=[ ] non viene eseguita ogni volta che la funzione e' usata ma solo una volta, quando la funzione e' definita!!!\n",
        "\n",
        "Nel caso illustrato il parametro di default e' una lista (MUTABLE) che pero' non viene svuotata ad ogni chiamata alla funzione. Piuttosto la lista mantiene memoria dei risultati ottenuti in tutte le chiamate precedenti.\n",
        "\n",
        "Segue una possibile soluzione per risolvere il problema illustrato nel precedente esempio:"
      ]
    },
    {
      "cell_type": "code",
      "execution_count": null,
      "metadata": {
        "id": "3UEmnv9YU1e5"
      },
      "outputs": [],
      "source": [
        "def positivi(lista , pos=None):\n",
        "    if pos == None:\n",
        "        pos =  []\n",
        "    for v in lista:\n",
        "        if v>0:\n",
        "            pos.append(v)\n",
        "    return pos\n"
      ]
    },
    {
      "cell_type": "code",
      "execution_count": null,
      "metadata": {
        "id": "dzPw8LsAU1e5"
      },
      "outputs": [],
      "source": [
        "pos1 = positivi([-1, 3, 4, -22, 0])\n",
        "print(pos1)"
      ]
    },
    {
      "cell_type": "code",
      "execution_count": null,
      "metadata": {
        "id": "pxauX8G0U1e6"
      },
      "outputs": [],
      "source": [
        "pos2 = positivi([1000,-2,-3,55.2])\n",
        "print(pos2)"
      ]
    },
    {
      "cell_type": "code",
      "execution_count": null,
      "metadata": {
        "id": "uxqKPbHIU1e6"
      },
      "outputs": [],
      "source": [
        "pos3 = positivi([121.1,-22,-33,], pos2[:])\n",
        "print(pos3)"
      ]
    },
    {
      "cell_type": "code",
      "execution_count": null,
      "metadata": {
        "id": "-eFu_lPrU1e6"
      },
      "outputs": [],
      "source": [
        "#cosa succede se tolgo [:]??\n",
        "pos3 = positivi([121.1,-22,-33,])\n",
        "print(pos3)"
      ]
    },
    {
      "cell_type": "markdown",
      "metadata": {
        "id": "70Z28M_8U1e6"
      },
      "source": [
        "## Il tipo di dato 'funzione'\n",
        "Dopo la definizione di una funzione il nome della funzione si riferisce ad un' \"istanza\" della funzione.\n",
        "\n",
        "In altre parole una funzione e' un tipo di dato predefinito.\n",
        "\n",
        "Se si usa il nome di una funzione senza le parentesi l'interprete ci dice che ci stiamo riferendo al nome di una funzione"
      ]
    },
    {
      "cell_type": "code",
      "execution_count": null,
      "metadata": {
        "id": "U5viGIJnU1e6",
        "outputId": "ebb3a2e4-69b0-4f03-a03c-30b0ead99f77"
      },
      "outputs": [
        {
          "name": "stdout",
          "output_type": "stream",
          "text": [
            "<function quadrato at 0x0000019A3180BD30>\n"
          ]
        }
      ],
      "source": [
        "def quadrato(a):\n",
        "    return a**2\n",
        "\n",
        "#non sto usando la funzione!!!!\n",
        "#sto semplicemente facendo riferimento al suo nome\n",
        "print(quadrato)"
      ]
    },
    {
      "cell_type": "markdown",
      "metadata": {
        "id": "-YZktdJ-U1e8"
      },
      "source": [
        "In relazione a quanto detto sopra:\n"
      ]
    },
    {
      "cell_type": "code",
      "execution_count": null,
      "metadata": {
        "id": "QpG7HvfiU1e8",
        "outputId": "f89c9e3c-2890-4c1b-d69e-8326e560912e"
      },
      "outputs": [
        {
          "data": {
            "text/plain": [
              "function"
            ]
          },
          "execution_count": 2,
          "metadata": {},
          "output_type": "execute_result"
        }
      ],
      "source": [
        "type(quadrato)"
      ]
    },
    {
      "cell_type": "markdown",
      "metadata": {
        "id": "RvX7Y4EKU1e9"
      },
      "source": [
        "Che e' diverso da:\n"
      ]
    },
    {
      "cell_type": "code",
      "execution_count": null,
      "metadata": {
        "id": "NFRHwBU3U1e9",
        "outputId": "bb6686de-10af-497d-f67b-2a7b426a12d3"
      },
      "outputs": [
        {
          "data": {
            "text/plain": [
              "int"
            ]
          },
          "execution_count": 3,
          "metadata": {},
          "output_type": "execute_result"
        }
      ],
      "source": [
        "type(quadrato(2))"
      ]
    },
    {
      "cell_type": "code",
      "execution_count": null,
      "metadata": {
        "id": "NLZPdp5bU1e-",
        "outputId": "510e4b66-f0b0-4de8-ada3-d82ba64757f6"
      },
      "outputs": [
        {
          "data": {
            "text/plain": [
              "4"
            ]
          },
          "execution_count": 4,
          "metadata": {},
          "output_type": "execute_result"
        }
      ],
      "source": [
        "# assegno la funzione a una variabile\n",
        "a = quadrato\n",
        "\n",
        "# chiamo la funzione quadrato con a\n",
        "a(2)"
      ]
    },
    {
      "cell_type": "markdown",
      "metadata": {
        "id": "k8l8QzROU1e-"
      },
      "source": [
        "### Assegnazione del nome di una funzione ad una variabile\n",
        "\n",
        "Essendo la funzione un tipo di dato, **posso assegnare una funzione (o meglio il suo nome) ad una variabile** e poi usare la variabile (o meglio la funzione alla quale la variabile si riferisce):\n"
      ]
    },
    {
      "cell_type": "code",
      "execution_count": null,
      "metadata": {
        "id": "P2Y-ud1dU1e-"
      },
      "outputs": [],
      "source": [
        "q = quadrato"
      ]
    },
    {
      "cell_type": "markdown",
      "metadata": {
        "id": "RySHo23EU1e-"
      },
      "source": [
        "è come se avessi attribuito un nuovo nome alla funzione:\n"
      ]
    },
    {
      "cell_type": "code",
      "execution_count": null,
      "metadata": {
        "id": "c-QClWHdU1e_"
      },
      "outputs": [],
      "source": [
        "q(7)"
      ]
    },
    {
      "cell_type": "markdown",
      "metadata": {
        "id": "iCCRQ5vuU1e_"
      },
      "source": [
        "in realtà l'attributo __name__ della funzione mantiene il riferimento al nome assegnato in fase di definizione.\n"
      ]
    },
    {
      "cell_type": "code",
      "execution_count": null,
      "metadata": {
        "id": "Xs2VJqmzU1e_"
      },
      "outputs": [],
      "source": [
        "q.__name__"
      ]
    },
    {
      "cell_type": "markdown",
      "metadata": {
        "id": "VRpIPUxPU1e_"
      },
      "source": [
        "### Passaggio di una funzione come parametro ad un'altra funzione\n",
        "\n",
        "posso passare una funzione come parametro ad un altra funzione:"
      ]
    },
    {
      "cell_type": "code",
      "execution_count": null,
      "metadata": {
        "id": "Kb8T8VewU1fA"
      },
      "outputs": [],
      "source": [
        "# Passaggio di una funzione come parametro ad un'altra funzione\n",
        "def quadrato(a):\n",
        "    return a**2\n",
        "\n",
        "def applica_funzione(funzione, argomento):\n",
        "    \"\"\"stampa una stringa con\n",
        "    funzione(argomento)=risultato\n",
        "    restituisce None (nulla) \"\"\"\n",
        "\n",
        "    print(f'sto per usare la funzione {funzione.__name__}()')\n",
        "\n",
        "    #determino il risultato\n",
        "    risultato = funzione(argomento)\n",
        "    #stampo la stringa con il risultato\n",
        "    print(f'{funzione.__name__}({argomento}) = {risultato}')\n",
        "    print('fine')\n",
        "    return  #termino la funzione senza ritornare nulla\n"
      ]
    },
    {
      "cell_type": "code",
      "execution_count": null,
      "metadata": {
        "id": "LCwxjyHvU1fA",
        "outputId": "3bbf780d-ce51-47e2-98ac-29f673187f19"
      },
      "outputs": [
        {
          "name": "stdout",
          "output_type": "stream",
          "text": [
            "stampa una stringa con \n",
            "    funzione(argomento)=risultato \n",
            "    restituisce None (nulla) \n",
            "sto per usare la funzione quadrato()\n",
            "quadrato(6.234) = 38.862756\n",
            "fine\n"
          ]
        }
      ],
      "source": [
        "a = applica_funzione(quadrato,6.234)"
      ]
    },
    {
      "cell_type": "code",
      "execution_count": null,
      "metadata": {
        "id": "19MjwCBMU1fB"
      },
      "outputs": [],
      "source": [
        "b = applica_funzione(abs,-4.546)"
      ]
    },
    {
      "cell_type": "code",
      "execution_count": null,
      "metadata": {
        "id": "lTWTHk_QU1fB"
      },
      "outputs": [],
      "source": [
        "c = applica_funzione(len,range(5))"
      ]
    },
    {
      "cell_type": "markdown",
      "metadata": {
        "id": "VZDmKI5ZU1fB"
      },
      "source": [
        "### La ricorsione\n",
        "\n",
        "In python è molto semplice implementare la ricorsione (una funzione che chiama se stessa).\n",
        "\n",
        "Vediamo questa tecnica applicata ad un esempio di funzione che implementa l'elevazione a potenza fra numeri interi:"
      ]
    },
    {
      "cell_type": "code",
      "execution_count": null,
      "metadata": {
        "id": "KXQ2L4feU1fB"
      },
      "outputs": [],
      "source": [
        "# La ricorsione\n",
        "def potenzaint(x, y):\n",
        "    if y == 0:\n",
        "        return 1\n",
        "    elif y > 0:\n",
        "        print('potenzaint({0},{1})'.format(x,y))\n",
        "        return x*potenzaint(x,y-1)\n",
        "    else:\n",
        "        print('potenzaint({0},{1})'.format(x,y))\n",
        "        return 1/x*potenzaint(x,y+1)"
      ]
    },
    {
      "cell_type": "code",
      "execution_count": null,
      "metadata": {
        "id": "4AKq2AjBU1fC"
      },
      "outputs": [],
      "source": [
        "potenzaint(2,4)"
      ]
    },
    {
      "cell_type": "code",
      "execution_count": null,
      "metadata": {
        "id": "2quVfnjEU1fC"
      },
      "outputs": [],
      "source": [
        "potenzaint(2,-4)"
      ]
    },
    {
      "cell_type": "markdown",
      "metadata": {
        "id": "mzKlXajSU1fC"
      },
      "source": [
        "### Annidamento di funzioni\n",
        "\n",
        "In una funzione possono essere utilizzate altre funzioni, definite altrove.\n",
        "\n",
        "Le funzioni però possono essere annidate cioè definite una dentro l'altra, anche a più livelli.\n"
      ]
    },
    {
      "cell_type": "code",
      "execution_count": null,
      "metadata": {
        "id": "16-FkucpU1fC",
        "outputId": "1b7101a3-632d-4f88-d685-0dc7780193c6"
      },
      "outputs": [
        {
          "name": "stdout",
          "output_type": "stream",
          "text": [
            "sono in f1\n",
            "sono in f2\n"
          ]
        }
      ],
      "source": [
        "# Annidamento di funzioni\n",
        "\n",
        "#inizio definizione f1\n",
        "def f1():\n",
        "\n",
        "    #####inizio definizione f2\n",
        "    def f2():\n",
        "        #questa funzione viene ridefinita ogni\n",
        "        #volta che f1 viene utilizzata\n",
        "        print('sono in f2')\n",
        "        return\n",
        "    #####fine definizione f2\n",
        "\n",
        "    print('sono in f1')\n",
        "\n",
        "    # in f1 posso usare f2\n",
        "    # f2 e' utilizzata qui\n",
        "    # e non nel momento della definizione\n",
        "    f2()\n",
        "#fine definizione f1\n",
        "\n",
        "\n",
        "#uso f1 e quindi anche f2\n",
        "f1()"
      ]
    },
    {
      "cell_type": "markdown",
      "metadata": {
        "id": "M0uUyAUgU1fD"
      },
      "source": [
        "visto che f2 e' definita in f1 ne consegue che fuori da f1 NON posso usare f2\n"
      ]
    },
    {
      "cell_type": "code",
      "execution_count": null,
      "metadata": {
        "id": "uwhNM8RAU1fD",
        "outputId": "e5faca9d-8ab5-4b8a-9bbb-e19ffab551cc"
      },
      "outputs": [
        {
          "ename": "NameError",
          "evalue": "name 'f2' is not defined",
          "output_type": "error",
          "traceback": [
            "\u001b[1;31m---------------------------------------------------------------------------\u001b[0m",
            "\u001b[1;31mNameError\u001b[0m                                 Traceback (most recent call last)",
            "\u001b[1;32m<ipython-input-6-216daaaa0cec>\u001b[0m in \u001b[0;36m<module>\u001b[1;34m\u001b[0m\n\u001b[0;32m      1\u001b[0m \u001b[1;31m# chiamata a f2 fuori dallo scope della f1 nella quale è definita\u001b[0m\u001b[1;33m\u001b[0m\u001b[1;33m\u001b[0m\u001b[1;33m\u001b[0m\u001b[0m\n\u001b[1;32m----> 2\u001b[1;33m \u001b[0mf2\u001b[0m\u001b[1;33m(\u001b[0m\u001b[1;33m)\u001b[0m\u001b[1;33m\u001b[0m\u001b[1;33m\u001b[0m\u001b[0m\n\u001b[0m",
            "\u001b[1;31mNameError\u001b[0m: name 'f2' is not defined"
          ]
        }
      ],
      "source": [
        "# chiamata a f2 fuori dallo scope della f1 nella quale è definita\n",
        "f2()"
      ]
    },
    {
      "cell_type": "markdown",
      "metadata": {
        "id": "sEER_4_DU1fD"
      },
      "source": [
        "### Attributi di una funzione\n",
        "\n",
        "In un precedente esempio abbiamo usato l'attributo funzione.__name__ vediamo se ce ne sono altri\n"
      ]
    },
    {
      "cell_type": "code",
      "execution_count": null,
      "metadata": {
        "id": "Zd7-uqIaU1fD",
        "outputId": "6006ec38-c291-4b79-80b7-254ab5497dae"
      },
      "outputs": [
        {
          "ename": "NameError",
          "evalue": "name 'applica_funzione' is not defined",
          "output_type": "error",
          "traceback": [
            "\u001b[1;31m---------------------------------------------------------------------------\u001b[0m",
            "\u001b[1;31mNameError\u001b[0m                                 Traceback (most recent call last)",
            "\u001b[1;32m<ipython-input-7-8195719e400c>\u001b[0m in \u001b[0;36m<module>\u001b[1;34m\u001b[0m\n\u001b[0;32m      1\u001b[0m \u001b[1;31m# Attributi di una funzione, dir restituisce la una lista\u001b[0m\u001b[1;33m\u001b[0m\u001b[1;33m\u001b[0m\u001b[1;33m\u001b[0m\u001b[0m\n\u001b[1;32m----> 2\u001b[1;33m \u001b[0mdir\u001b[0m\u001b[1;33m(\u001b[0m\u001b[0mapplica_funzione\u001b[0m\u001b[1;33m)\u001b[0m\u001b[1;33m\u001b[0m\u001b[1;33m\u001b[0m\u001b[0m\n\u001b[0m",
            "\u001b[1;31mNameError\u001b[0m: name 'applica_funzione' is not defined"
          ]
        }
      ],
      "source": [
        "# Attributi di una funzione, dir restituisce la una lista\n",
        "dir(applica_funzione)\n"
      ]
    },
    {
      "cell_type": "markdown",
      "metadata": {
        "id": "JxF2J9YyU1fE"
      },
      "source": [
        "Vediamo cosa c'e' in applica_funzione.__doc__:"
      ]
    },
    {
      "cell_type": "code",
      "execution_count": null,
      "metadata": {
        "id": "80YMSWkYU1fE",
        "outputId": "9be5c408-0085-4a78-877c-165036d07eb4"
      },
      "outputs": [
        {
          "name": "stdout",
          "output_type": "stream",
          "text": [
            "stampa una stringa con \n",
            "    funzione(argomento)=risultato \n",
            "    restituisce None (nulla) \n"
          ]
        }
      ],
      "source": [
        "print(applica_funzione.__doc__)"
      ]
    },
    {
      "cell_type": "code",
      "execution_count": null,
      "metadata": {
        "id": "Cp954DpIU1fE"
      },
      "outputs": [],
      "source": [
        "help(applica_funzione)"
      ]
    },
    {
      "cell_type": "markdown",
      "metadata": {
        "id": "FnP283_pU1fF"
      },
      "source": [
        "dentro applica_funzione abbiamo usato funzione.__name__ cioe' l'attributo che contiene il nome della funzione:\n"
      ]
    },
    {
      "cell_type": "code",
      "execution_count": null,
      "metadata": {
        "id": "val4qjgiU1fF"
      },
      "outputs": [],
      "source": [
        "quadrato.__name__"
      ]
    },
    {
      "cell_type": "markdown",
      "metadata": {
        "id": "oCN6bfXSU1fF"
      },
      "source": [
        "Posso anche aggiungere attributi alle funzioni:"
      ]
    },
    {
      "cell_type": "code",
      "execution_count": null,
      "metadata": {
        "id": "X7lPZ4M9U1fF"
      },
      "outputs": [],
      "source": [
        "quadrato.nota='non serve a nulla...'"
      ]
    },
    {
      "cell_type": "markdown",
      "metadata": {
        "id": "MAA8rSQ8U1fG"
      },
      "source": [
        "L'attibuto e' stato aggiunto:"
      ]
    },
    {
      "cell_type": "code",
      "execution_count": null,
      "metadata": {
        "id": "xzGNPTxpU1fG"
      },
      "outputs": [],
      "source": [
        "print('nota' in dir(quadrato))\n",
        "\n",
        "print(dir(quadrato))"
      ]
    },
    {
      "cell_type": "markdown",
      "metadata": {
        "id": "EmiBPl1PU1fG"
      },
      "source": [
        "e inoltre lo si ritrova in:\n"
      ]
    },
    {
      "cell_type": "code",
      "execution_count": null,
      "metadata": {
        "id": "06jwL4EdU1fG"
      },
      "outputs": [],
      "source": [
        "quadrato.__dict__"
      ]
    },
    {
      "cell_type": "markdown",
      "metadata": {
        "id": "odC67Cb9U1fG"
      },
      "source": [
        "Tutte le funzioni hanno l'attributo __call__ che significa che possono essere 'chiamate' con la sintassi nomefunzione(argomentifunzione)"
      ]
    },
    {
      "cell_type": "markdown",
      "metadata": {
        "id": "MJSnEvwFU1fH"
      },
      "source": [
        "## Gli Scope (chi vede cosa)\n",
        "\n",
        "Per **'Scope'** di una variabile, si intende l'ambito in cui la variabile puo' essere usata\n",
        "\n",
        "**Lo scope di una variabile e' determinato da dove questa viene definita.**\n",
        "\n",
        "In particolare, in relazione ad una generica funzione:\n",
        "\n",
        "- se una variabile e' definita nella funzione stessa si dice locale alla funzione\n",
        "- se una variabile e' definita in una funzione che racchiude la funzione alla quale ci si riferisce (enclosing def) la funzione si dice **nonlocale alla funzione**\n",
        "- se una variabile e' definita all'esterno di tutte le funzioni, e' detta variabile **globale**\n",
        "\n",
        "La questione degli scope ha rilevanza a proposito:\n",
        "- dove posso usare una variabile\n",
        "- cosa succede se assegno lo stesso nome a variabili di contesti diversi\n",
        "- dove Python cerca le variabili in base al loro nome ed al punto di definizione\n",
        "\n",
        "vediamo cosa significa con degli esempi.\n",
        "\n",
        "### Uso di variabili locali che hanno lo stesso nome di variabili globali\n",
        "\n",
        "definisco una funzione che, al suo interno definisce una variabile X\n"
      ]
    },
    {
      "cell_type": "code",
      "execution_count": null,
      "metadata": {
        "id": "Ls0em5V4U1fH"
      },
      "outputs": [],
      "source": [
        "# Gli Scope (chi vede cosa)\n",
        "\n",
        "#Uso di variabili locali che hanno lo stesso nome di variabili globali\n",
        "def func(X):\n",
        "    #X e' locale alla funzione\n",
        "    X = 'ciao'\n",
        "    print('X = ',X)\n",
        "    #return X"
      ]
    },
    {
      "cell_type": "code",
      "execution_count": null,
      "metadata": {
        "id": "yqO7X7QaU1fH",
        "outputId": "e3ae9361-6d07-4cce-8aec-852021994afb"
      },
      "outputs": [
        {
          "name": "stdout",
          "output_type": "stream",
          "text": [
            "X prima della chiamata =  10\n",
            "X =  ciao\n",
            "X dopo l'esecuzione di func =  10\n"
          ]
        }
      ],
      "source": [
        "## ESEGUO ##\n",
        "#definisco una variabile X globale\n",
        "X = 10\n",
        "\n",
        "print('X prima della chiamata = ',X)\n",
        "func(X)\n",
        "print(\"X dopo l'esecuzione di func = \",X)"
      ]
    },
    {
      "cell_type": "markdown",
      "metadata": {
        "id": "JwbMRlJFU1fI"
      },
      "source": [
        "dentro func uso la X locale (X locale nasconde X globale) fuori da func uso X globale\n"
      ]
    },
    {
      "cell_type": "markdown",
      "metadata": {
        "id": "f-Fee5njU1fI"
      },
      "source": [
        "### Uso di variabili globali in funzioni\n",
        "Se in una funzione si usa una variabile (in una espressione, a destra dell'operatore = ad esempio) che non e' stata definita nella funzione stessa l'interprete cerca la definizione della variabile all'esterno della funzione stessa.\n",
        "\n",
        "In generale una variabile come quella descritta si dice una 'variabile libera' (free variable) nel contesto della funzione.\n",
        "\n",
        "Nel seguente caso la funzione fun una variabile X che e' definita esternamente a tutte le funzioni.\n"
      ]
    },
    {
      "cell_type": "code",
      "execution_count": null,
      "metadata": {
        "id": "ngW6EoOYU1fI",
        "outputId": "10fcb64d-acd6-494d-e0fc-caa36bfe1d2e"
      },
      "outputs": [
        {
          "name": "stdout",
          "output_type": "stream",
          "text": [
            "X globale: 20\n"
          ]
        }
      ],
      "source": [
        "# Uso di variabili globali in funzioni\n",
        "def fun(Y):\n",
        "    #X e' globale anche se non esplicitato\n",
        "    global X\n",
        "    X = X + Y\n",
        "    #return X\n",
        "\n",
        "\n",
        "# siamo nel Main\n",
        "#variabile globale cioè visibile dentro e fuori da fun\n",
        "X = 10\n",
        "\n",
        "fun(X) #Y assume il valore 1 ed e' locale a fun\n",
        "#print(num)\n",
        "\n",
        "print('X globale:', X)"
      ]
    },
    {
      "cell_type": "code",
      "execution_count": null,
      "metadata": {
        "id": "wyjJPzGKU1fJ"
      },
      "outputs": [],
      "source": []
    },
    {
      "cell_type": "markdown",
      "metadata": {
        "id": "jBM0PVqxU1fJ"
      },
      "source": [
        "### Modifica di variabili globali in funzioni (uso della parola riservata global)\n",
        "\n",
        "Nell'esempio precedente ho usato la variabile globale X.\n",
        "\n",
        "Ma come fare se io voglio modificare una variabile globale all'interno di una funzione?\n",
        "\n",
        "Considerando uno degli esempi precedenti, risulta evidente come non posso semplicemente digitare X = nuovovalore perche' in tal caso creerei una variabile locale che 'maschera' la variabile globale e non modificherei la variabile globale stessa. Vediamo un altro esempio a proposito.\n"
      ]
    },
    {
      "cell_type": "code",
      "execution_count": null,
      "metadata": {
        "id": "KI4v29MkU1fJ"
      },
      "outputs": [],
      "source": [
        "# Modifica di variabili globali in funzioni (uso della parola riservata global)\n",
        "#definisco una funzione che, al suo interno definisce una variabile X\n",
        "def func():\n",
        "    #X e' locale alla funzione\n",
        "    X = 'ciao'\n",
        "    print('X durante la chiamata a funzione = ',X)\n"
      ]
    },
    {
      "cell_type": "code",
      "execution_count": null,
      "metadata": {
        "id": "MxJWupCrU1fJ",
        "outputId": "c316ddcf-da23-4805-fc1c-77ca20f5c9f2"
      },
      "outputs": [
        {
          "name": "stdout",
          "output_type": "stream",
          "text": [
            "X prima della chiamata a funzione =  10\n",
            "X durante la chiamata a funzione =  ciao\n",
            "X dopo della chiamata a funzione =  10\n"
          ]
        }
      ],
      "source": [
        "#definisco una variabile X globale\n",
        "X = 10\n",
        "\n",
        "#stampo X globale\n",
        "print('X prima della chiamata a funzione = ',X)\n",
        "\n",
        "#uso la funzione che al suo interno stampa la X a lei locale\n",
        "func()\n",
        "\n",
        "#stampo X globale\n",
        "print('X dopo della chiamata a funzione = ',X)"
      ]
    },
    {
      "cell_type": "markdown",
      "metadata": {
        "id": "UEPQaDGgU1fK"
      },
      "source": [
        "In questi casi si usa la keyword global che specifica esplicitamente che stiamo operando su una variabile globale. L'esempio precedente e' modificato semplicemente aggiungendo 'global X' all'inizio della funzione.\n"
      ]
    },
    {
      "cell_type": "code",
      "execution_count": null,
      "metadata": {
        "id": "hOrMEsl5U1fK"
      },
      "outputs": [],
      "source": [
        "#definisco una funzione che, al suo interno definisce una variabile X\n",
        "def func():\n",
        "    #dichiaro che X e' quella globale!!!!!!!\n",
        "    global X\n",
        "    X = 'ciao'\n",
        "    print('X durante la chiamata a funzione = ',X)\n"
      ]
    },
    {
      "cell_type": "code",
      "execution_count": null,
      "metadata": {
        "id": "fWCj7rAAU1fK",
        "outputId": "179ce1c6-5746-421f-94bf-e60a36663498"
      },
      "outputs": [
        {
          "name": "stdout",
          "output_type": "stream",
          "text": [
            "X prima della chiamata a funzione =  10\n",
            "X durante la chiamata a funzione =  ciao\n",
            "X dopo della chiamata a funzione =  ciao\n"
          ]
        }
      ],
      "source": [
        "#definisco una variabile X globale\n",
        "X = 10\n",
        "\n",
        "#stampo X globale\n",
        "print('X prima della chiamata a funzione = ',X)\n",
        "\n",
        "#uso la funzione che al suo interno stampa la X a lei locale\n",
        "func()\n",
        "\n",
        "#stampo X globale\n",
        "print('X dopo della chiamata a funzione = ',X)\n"
      ]
    },
    {
      "cell_type": "code",
      "execution_count": null,
      "metadata": {
        "id": "sisr4MV9U1fL"
      },
      "outputs": [],
      "source": [
        "# NOTA: una variabile dichiarata global all'interno di una funzione\n",
        "# non puo' essere anche uno dei parametri della funzione stessa.\n",
        "def func(X):\n",
        "    global X\n",
        "    X = 'ciao'\n",
        "    print('X durante la chiamata a funzione = ',X)\n"
      ]
    },
    {
      "cell_type": "markdown",
      "metadata": {
        "id": "afWirQ1sU1fL"
      },
      "source": [
        "### Uso di variabili nonlocali in funzioni\n",
        "\n",
        "Si è già detto che una variabile non locale è una variabile definita in uno scope esterno alla funzione di riferimento ma comunque non a livello globale.\n",
        "\n",
        "Il seguente esempio tratta di tre variabili X,Y,Z definite sia a livello globale, sia all'interno di due funzioni annidate.\n",
        "\n",
        "La prima versione evidenzia la visibilità delle variabili all'interno delle funzioni.\n",
        "\n",
        "Nella seconda versione dell'esempio si illustra l'effetto della parola riservata nonlocal.\n"
      ]
    },
    {
      "cell_type": "code",
      "execution_count": null,
      "metadata": {
        "id": "Rqpr50QdU1fL"
      },
      "outputs": [],
      "source": [
        "#definisco una funzione con una funzione annidata\n",
        "def funzione_esterna():\n",
        "    def funzione_interna():\n",
        "        #(8)\n",
        "        X = 'X funzione interna'\n",
        "        #(9),(10)\n",
        "        print('-3-',X,Y,Z)\n",
        "        # terza (in ordine di esecuzione) chiamata a print\n",
        "        return # fine DEFINIZIONE funzione interna\n",
        "    #(4)\n",
        "    X = 'X funzione esterna'\n",
        "    Y = 'Y funzione esterna'\n",
        "    #(5),(6)\n",
        "    print('-2-',X,Y,Z)# seconda chiamata a print\n",
        "    #(7)\n",
        "    funzione_interna()\n",
        "\n",
        "    print('-4-',X,Y,Z)# quarta chiamata a print\n",
        "    return #fine funzione esterna\n"
      ]
    },
    {
      "cell_type": "code",
      "execution_count": null,
      "metadata": {
        "id": "T9vwHVJIU1fM"
      },
      "outputs": [],
      "source": [
        "## ESEGUO LE FUNZ ##\n",
        "\n",
        "#(1)\n",
        "X = 'X globale'\n",
        "Y = 'Y globale'\n",
        "Z = 'Z globale'\n",
        "\n",
        "#(2)\n",
        "print('-1-',X,Y,Z)# prima chiamata a print\n",
        "\n",
        "#(3)\n",
        "funzione_esterna()\n",
        "print('-5-',X,Y,Z)# prima chiamata a print\n"
      ]
    },
    {
      "cell_type": "markdown",
      "metadata": {
        "id": "UeVkGNyjU1fM"
      },
      "source": [
        "- (1) definisco le 3 variabili globali X,Y,Z\n",
        "- (2) stampo le 3 variabili globali X,Y,Z (prima chiamata a print)\n",
        "- (3) chiamo funzione esterna (non ci interessa qui specificare quando la funzione e' stata definita)\n",
        "- (4) definisco le 2 variabili X e Y locali al contesto di chiamata\n",
        "- (5) stampo le 3 variabili X,Y,Z (seconda chiamata a print)\n",
        "- (6) le variabili stampate sono la Z globale e le X e Y locali\n",
        "- (7) chiamo la funzione interna\n",
        "- (8) definisco la variabile X locale\n",
        "- (9) stampo le 3 variabili (terza chiamata a print)\n",
        "- (10) le variabili stampate sono la Z globale la Y nonlocale (definita in funzione esterna) e la X locale\n"
      ]
    },
    {
      "cell_type": "markdown",
      "metadata": {
        "id": "wUDUrcMgU1fM"
      },
      "source": [
        "### nonlocal\n",
        "\n",
        "esiste una parola chiave (nonlocal) analoga a global che permette di dichiarare esplicitamente che si sta operando su una variabile libera non-locale e quindi modificarla.\n"
      ]
    },
    {
      "cell_type": "code",
      "execution_count": null,
      "metadata": {
        "id": "hWBjXAtPU1fN"
      },
      "outputs": [],
      "source": [
        "#definisco una funzione con una funzione annidata\n",
        "def funzione_esterna():\n",
        "\n",
        "    def funzione_interna():\n",
        "        #(8)\n",
        "        nonlocal X\n",
        "        X = 'X funzione interna' #agisco sulla X della funzione esterna!!!\n",
        "        #(9),(10)\n",
        "        print('-3-',X,Y,Z)\n",
        "        return\n",
        "\n",
        "    #(4)\n",
        "    X = 'X funzione esterna'\n",
        "    Y = 'Y funzione esterna'\n",
        "    #(5),(6)\n",
        "    print('-2-',X,Y,Z)\n",
        "    #(7)\n",
        "    funzione_interna()\n",
        "    #(7)\n",
        "    print('-4-',X,Y,Z)######### genera un risultato diverso dall'esempio precedente\n",
        "    return"
      ]
    },
    {
      "cell_type": "markdown",
      "metadata": {
        "id": "Sh4pdjBYU1fN"
      },
      "source": [
        "sotto si può vedere l'effetto dell'uso di nonlocal nella chiamata -4- a print\n"
      ]
    },
    {
      "cell_type": "code",
      "execution_count": null,
      "metadata": {
        "id": "ZFHBb82zU1fN"
      },
      "outputs": [],
      "source": [
        "#(1)\n",
        "X = 'X globale'\n",
        "Y = 'Y globale'\n",
        "Z = 'Z globale'\n",
        "#(2)\n",
        "print('-1-',X,Y,Z)# prima chiamata a print\n",
        "#(3)\n",
        "funzione_esterna()\n",
        "print('-5-',X,Y,Z)# prima chiamata a print\n"
      ]
    },
    {
      "cell_type": "markdown",
      "metadata": {
        "id": "02Ux-mMxU1fO"
      },
      "source": [
        "## Esercizi"
      ]
    },
    {
      "cell_type": "code",
      "execution_count": null,
      "metadata": {
        "colab": {
          "base_uri": "https://localhost:8080/"
        },
        "id": "9dd2NYqVU1fO",
        "outputId": "86f7450b-ab91-4bd8-9096-b17a91f9577e"
      },
      "outputs": [
        {
          "name": "stdout",
          "output_type": "stream",
          "text": [
            "[4, 3, 2, 1]\n"
          ]
        }
      ],
      "source": [
        "'''\n",
        " funzione_1\n",
        "'''\n",
        "# definire una funzione che accetta quattro argomenti con nome\n",
        "# a1,a2,a3,a4\n",
        "# e restituisce una lista che contiene i quattro argomenti nell'ordine invertito\n",
        "#\n",
        "# Esempio:\n",
        "#   >>>funzione_1('1',2,'ciao',4.55)def8\n",
        "#   [4.55,'ciao',2,'1']\n",
        "\n",
        "def funzione01(a1, a2, a3, a4):\n",
        "  return [a4, a3, a2, a1]\n",
        "\n",
        "print(funzione01(1, 2, 3, 4))\n",
        "\n"
      ]
    },
    {
      "cell_type": "code",
      "execution_count": null,
      "metadata": {
        "id": "Pfl_0lJRU1fP"
      },
      "outputs": [],
      "source": [
        "'''\n",
        " funzione_2\n",
        "'''\n",
        "# definire una funzione che usa al suo interno la precedente funzione_1() e che:\n",
        "#\n",
        "# - accetta quattro argomenti con i seguenti nomi ed ordine b1,b2,b3,b4\n",
        "# - associa i parametri a della prec. funz. ai parametri\n",
        "#   b nel seguente modo:  a1=b1 , a2=b2 , a3=b3 , a4=b4\n",
        "# - se sono passati solo 3 parametri usa per b4 il valore 0\n",
        "# suggerimento:\n",
        "# - nel corpo della nuova funzione_2 usare la funzione soluzione\n",
        "#   del precedente esercizio con argomenti passati per nome\n",
        "# - negli argomenti della nuova funzione usare un default per b4\n",
        "#\n",
        "# Esempi:\n",
        "#   >>> funzione_2('1',2,'ciao',4.55)\n",
        "#   [4.55, 'ciao', 2, '1'])\n",
        "#   >>> funzione_2('1',2,'ciao')\n",
        "#   [0, 'ciao', 2, '1'])\n",
        "\n",
        "def funzione_2(b1, b2, b3, b4 = 0):\n",
        "  return [b4, b3, b2, b1]\n",
        "\n",
        "funzione_2(1, 2, 'ciao')\n",
        "\n"
      ]
    },
    {
      "cell_type": "code",
      "execution_count": null,
      "metadata": {
        "colab": {
          "base_uri": "https://localhost:8080/"
        },
        "id": "v0sYKWgbU1fP",
        "outputId": "fc746ffa-0a33-4eaf-8172-7317b863973f"
      },
      "outputs": [
        {
          "name": "stdout",
          "output_type": "stream",
          "text": [
            "[4, 'pedro', 'cintia', 'sonia', 'lucas']\n"
          ]
        }
      ],
      "source": [
        "'''\n",
        "Funzione_3\n",
        "'''\n",
        "\n",
        "# definire una funzione che accetta un numero variabile\n",
        "# di parametri passati per posizione/valore e che restituisce una lista\n",
        "# che ha come primo elemento il numero di parametri (la sua lunghezza) e a seguire\n",
        "# i parametri passati alla funzione\n",
        "# Esempi:\n",
        "#   >>> funzione_3('a','b','c')\n",
        "#   [3,'a','b','c']\n",
        "\n",
        "def funzione_3(*args):\n",
        "  lista = [len(args),]\n",
        "  for i in args:\n",
        "    lista.append(i)\n",
        "\n",
        "  return lista\n",
        "\n",
        "print(funzione_3(\"pedro\", \"cintia\",\"sonia\", 'lucas'))"
      ]
    },
    {
      "cell_type": "code",
      "execution_count": null,
      "metadata": {
        "id": "MOooYjpTU1fP"
      },
      "outputs": [],
      "source": [
        "'''\n",
        "funzione_04\n",
        "'''\n",
        "# definire una funzione che accetta un numero variabile\n",
        "# di parametri passati per posizione (almeno 1) e che restituisce la 'somma' di tutti gli argomenti (parametri di input)\n",
        "\n",
        "# Esempi:\n",
        "#   >>> funzione_4('a','b','c',' prova')\n",
        "#   'abc prova'\n",
        "#   >>> funzione_4(1,2,3)\n",
        "#   6\n",
        "\n",
        "def funzione_04(*args):\n",
        "  risultato = \"\"\n",
        "  for i in args:\n",
        "    risultato += i\n",
        "  return risultato\n",
        "\n",
        "funzione_04('a', 'b', 'c', ' prova')"
      ]
    },
    {
      "cell_type": "code",
      "execution_count": null,
      "metadata": {
        "id": "kj4Crd5LU1fP"
      },
      "outputs": [],
      "source": [
        "'''\n",
        " funzione_5\n",
        "'''\n",
        "# definire una funzione che accetta un numero variabile\n",
        "# di parametri passati per nome e restituisce una lista\n",
        "# dove il primo elemento è il numero di parametri e a seguire ci sono delle tuple di due elementi\n",
        "# il cui primo elemento è una stringa che contiene il nome del parametro ed il secondo contiene il valore del parametro.\n",
        "# le tuple nella lista sono ordinate per chiave\n",
        "#\n",
        "# Esempi:\n",
        "#   >>> funzione_5(a='a' , b='b' , c='c' ,d=1)\n",
        "#   [4,('a','a'),('b','b'),('c','c'),('d',1)]\n",
        "#   >>> funzione_5(x=1,y=2,z=3,k='1')\n",
        "#   [4,('x',1),('y',2),('z',3),('k','1')]\n",
        "\n",
        "lista = []\n",
        "\n",
        "def funzione_05(**kwargs):\n",
        "  lista.append(len(kwargs))\n",
        "  for key in kwargs:\n",
        "    lista.append((key, kwargs[key]))\n",
        "\n",
        "  return lista\n",
        "\n",
        "print(funzione_05(a='a', b='b', c='c', d=1))\n",
        "\n",
        "\n"
      ]
    },
    {
      "cell_type": "code",
      "execution_count": null,
      "metadata": {
        "colab": {
          "base_uri": "https://localhost:8080/"
        },
        "id": "sGOMuTmlU1fQ",
        "outputId": "5d4de60b-4b3e-4e0e-8451-c20510160fd8"
      },
      "outputs": [
        {
          "name": "stdout",
          "output_type": "stream",
          "text": [
            "Scegli un numero per la variabile 'val': 1\n",
            "[3, 2]\n"
          ]
        }
      ],
      "source": [
        "'''\n",
        " funzione_6\n",
        "'''\n",
        "# definire una funzione che accetta come primo argomento\n",
        "# una generica variabile var seguita da un numero imprecisato di argomenti\n",
        "# posizionali e da un numero imprecisato di parametri passati per nome\n",
        "# La funzione restituisce una lista che ha come primo elemento il numero di volte che val\n",
        "# compare tra gli argomenti posizionali e come secondo numero  il numero di volte che val\n",
        "# compare tra gli argomenti passati per nome\n",
        "# Esempi:\n",
        "#   >>>funzione_6(1,2,3,1,1,1,d=2,c=3,e=1,m=1)\n",
        "#   [3,2]\n",
        "#   >>>funzione_6(1,2,3,1,1,1)\n",
        "#   [3,0]\n",
        "#   >>>funzione_6(1,d=2,c=3,e=1,m=1)\n",
        "#   [0,2]\n",
        "\n",
        "valore = int(input(\"Scegli un numero per la variabile 'val': \"))\n",
        "\n",
        "def funzione_06(val,*args, **kwargs):\n",
        "  val_pos = 0\n",
        "  val_nome = 0\n",
        "\n",
        "  for i in args:\n",
        "    if val == i:\n",
        "      val_pos +=1\n",
        "\n",
        "  for key in kwargs:\n",
        "    if kwargs[key] == val:\n",
        "      val_nome +=1\n",
        "\n",
        "  return [val_pos, val_nome]\n",
        "\n",
        "print(funzione_06(valore,2,3,1,1,1,d=2,c=3,e=1,m=1))\n"
      ]
    },
    {
      "cell_type": "code",
      "execution_count": null,
      "metadata": {
        "id": "7rxVbPlHU1fQ"
      },
      "outputs": [],
      "source": [
        "'''\n",
        " funzione_7(func)\n",
        "'''\n",
        "\n",
        "# definire la funzione funzione_7 che data una lista globale di nome L\n",
        "# applica ai soli elementi pari della lista L una generica funzione 'func'\n",
        "# passata come unico argomento della lista.\n",
        "# La funzione restituisce una nuova lista con i valori degli elementi con indice pari\n",
        "# modificati rispetto alla lista L.\n",
        "\n",
        "# Esempi:\n",
        "#   >>>L = [-2,-3,-4,-5,-6,-7]\n",
        "#   >>>funzione_7(abs)\n",
        "#   [2,-3,4,-5,6,-7]\n",
        "#\n",
        "#   >>>L = list('ciaociao')\n",
        "#   >>>funzione_7(str.capitalize)\n",
        "#   ['C','i','A','o','C','i','A','o']\n",
        "\n",
        "I = [-2,-3,-4,-5,-6,-7]\n",
        "S = list('ciaociao')\n",
        "\n",
        "\n",
        "def funzione_7(lista):\n",
        "  list = []\n",
        "\n",
        "  for i in range(len(lista)):\n",
        "    if type(lista[i]) == int:\n",
        "        if i % 2 == 0:\n",
        "            lista[i] *= -1\n",
        "            list.append(lista[i])\n",
        "        else:\n",
        "           list.append(lista[i])\n",
        "\n",
        "    else:\n",
        "        valore = str(lista[i])\n",
        "        if i % 2 == 0:\n",
        "            list.append(valore.capitalize())\n",
        "        else:\n",
        "            list.append(valore)\n",
        "\n",
        "\n",
        "\n",
        "  return list\n",
        "\n",
        "print(funzione_7(I))\n",
        "print(funzione_7(S))\n"
      ]
    },
    {
      "cell_type": "code",
      "execution_count": null,
      "metadata": {
        "id": "bYXQZ6TUU1fQ"
      },
      "outputs": [],
      "source": [
        "'''\n",
        " funzione_8(func,L)\n",
        "'''\n",
        "# come la precedente ma le modifiche sono effettuate in-place in L, passata come parametro\n",
        "# e la funzione restituisce il numero degli elementi modificati e la stampa della nuova lista (o vecchia lista modificata)\n",
        "\n",
        "# Esempi:\n",
        "#   >>>L = [-2,-3,-4,-5,-6,-7]\n",
        "#   >>>funzione_8(abs, L)\n",
        "#   3\n",
        "#   >>>L\n",
        "#   [2,-3,4,-5,6,-7]\n",
        "#\n",
        "#   >>>L = list('ciaociao')\n",
        "#   >>>funzione_8(str.capitalize, L)\n",
        "#   4\n",
        "#   >>>L\n",
        "#   ['C','i','A','o','C','i','A','o']\n",
        "\n",
        "I = [-2,-3,-4,-5,-6,-7]\n",
        "S = list('ciaociao')\n",
        "\n",
        "\n",
        "def funzione_7(lista):\n",
        "  changes = 0\n",
        "  list = []\n",
        "\n",
        "  for i in range(len(lista)):\n",
        "    if type(lista[i]) == int:\n",
        "        if i % 2 == 0:\n",
        "            lista[i] *= -1\n",
        "            list.append(lista[i])\n",
        "            changes += 1\n",
        "        else:\n",
        "           list.append(lista[i])\n",
        "\n",
        "    else:\n",
        "        valore = str(lista[i])\n",
        "        if i % 2 == 0:\n",
        "            list.append(valore.capitalize())\n",
        "            changes += 1\n",
        "        else:\n",
        "            list.append(valore)\n",
        "\n",
        "  print(changes)\n",
        "  print(list)\n",
        "\n",
        "\n",
        "funzione_7(I)\n",
        "funzione_7(S)\n"
      ]
    },
    {
      "cell_type": "code",
      "execution_count": null,
      "metadata": {
        "id": "JOX9Odz9U1fQ"
      },
      "outputs": [],
      "source": [
        "# esempio codice funzione_8\n",
        "n = 0\n",
        "L = list('ciaociao')\n",
        "\n",
        "# qui chiamo la funzione_8(str.capitalize, L)\n",
        "newL = list()\n",
        "for i,v in enumerate(L):\n",
        "    if i%2 == 0:\n",
        "        newL.append(L[i].capitalize())\n",
        "        n += 1\n",
        "    else:\n",
        "        newL.append(v)\n",
        "print(n)\n",
        "print(newL)"
      ]
    },
    {
      "cell_type": "code",
      "execution_count": 3,
      "metadata": {
        "id": "evFnY4zOU1fR"
      },
      "outputs": [
        {
          "data": {
            "text/plain": [
              "['carpiato']"
            ]
          },
          "execution_count": 3,
          "metadata": {},
          "output_type": "execute_result"
        }
      ],
      "source": [
        "'''\n",
        " funzione_9(subs,lista_stringhe,[results])\n",
        "'''\n",
        "\n",
        "# cerca l'occorrenza della stringa subs nelle stringhe\n",
        "# contenute nella lista di stringhe lista_stringhe\n",
        "# aggiunge le stringhe in cui la ricerca ha dato esito positivo alla lista results\n",
        "#  che è un parametro opzionale (circondata dalle [] significa opzionale)\n",
        "# Esempi:\n",
        "# >>> findsubstrings(\"pi\",['piadina','arpia','prezzemolo','rinpinguare'])\n",
        "# ['piadina', 'arpia', 'rinpinguare']\n",
        "# >>> findsubstrings(\"pi\",['Privato','Piacere','tovaglia','carpiato'])\n",
        "# ['carpiato']\n",
        "# >>> findsubstrings(\"pi\",['pistone'],['carpiato'])\n",
        "# ['carpiato', 'pistone']\n",
        "\n",
        "risultato = []\n",
        "\n",
        "\n",
        "def addRisultato(par, lista):\n",
        "    for parola in lista:\n",
        "        if str(par) in parola:\n",
        "            risultato.append(parola)\n",
        "\n",
        "    return risultato\n",
        "\n",
        "addRisultato(\"pi\",['Privato','Piacere','tovaglia','carpiato'])"
      ]
    },
    {
      "cell_type": "code",
      "execution_count": 17,
      "metadata": {
        "id": "_kfzGrdxU1fR"
      },
      "outputs": [
        {
          "name": "stdout",
          "output_type": "stream",
          "text": [
            "ana\n",
            "ana\n"
          ]
        },
        {
          "data": {
            "text/plain": [
              "True"
            ]
          },
          "execution_count": 17,
          "metadata": {},
          "output_type": "execute_result"
        }
      ],
      "source": [
        "'''funzione_10'''\n",
        "# Una stringa si dice palindroma quando rimane identica\n",
        "# leggendola nelle due direzioni (inizio ->fine) (fine ->inizio)\n",
        "# creare una funzione in grado di riconoscere una stringa palindroma\n",
        "# Esempi\n",
        "#  >>> funzione_10(\"Racecar\")\n",
        "#  True\n",
        "#  >>> funzione_10(\"Never\")\n",
        "#  False\n",
        "#  >>> funzione_10(\"level\")\n",
        "#  True\n",
        "#  >>> funzione_10(\"\")\n",
        "#  True\n",
        "#  >>> funzione_10(\"a\")\n",
        "#  True\n",
        "\n",
        "stringa = input(\"Inserisci una parola\")\n",
        "\n",
        "\n",
        "def verificaPolindroma(stringa):\n",
        "    stringaVerifica = \"\"\n",
        "    for i in range(len(stringa), 0, -1):\n",
        "        stringaVerifica += str(stringa[i-1]) \n",
        "        \n",
        "    if str(stringa.lower()) == stringaVerifica.lower():\n",
        "        return True\n",
        "    else:\n",
        "        return False\n",
        "\n",
        "verificaPolindroma(stringa)"
      ]
    },
    {
      "cell_type": "markdown",
      "metadata": {
        "id": "b_HOjXeYU1fR"
      },
      "source": [
        "### Le funzioni dovranno essere inserite in un unico script e eseguite nella sezione di test (`if __name__ == '__main__'`) e richiamate nell'ordine. Inserite gestione degli errori di input e qualsiasi altra cosa pensiate sia necessario."
      ]
    },
    {
      "cell_type": "markdown",
      "metadata": {
        "id": "9V_16CqJU1fR"
      },
      "source": [
        "## `if __name__=='__main__':`\n",
        "\n",
        "- in genere in un modulo (o script .py) si definiscono funzioni o classi.\n",
        "- c'e' un modo per includere nel modulo anche una sessione di test o di esempi delle funzioni create senza che queste siano eseguite quando il modulo è importato da altri moduli.\n",
        "- questa sessione di test/esempi sarà eseguita solo quando il modulo viene eseguito come script.\n",
        "\n",
        "facciamo un esempio con uno script/modulo generico **funzioni.py**, nel quale si è inclusa una sezione di test per chiamare le funzioni al suo interno:"
      ]
    },
    {
      "cell_type": "code",
      "execution_count": null,
      "metadata": {
        "colab": {
          "base_uri": "https://localhost:8080/",
          "height": 228
        },
        "id": "zfTI2cEPU1fS",
        "outputId": "98809a8b-d70c-4501-ce4b-c0ef5e17e755"
      },
      "outputs": [
        {
          "name": "stdout",
          "output_type": "stream",
          "text": [
            "----------\n"
          ]
        },
        {
          "ename": "NameError",
          "evalue": "name 'funzione_1' is not defined",
          "output_type": "error",
          "traceback": [
            "\u001b[0;31m---------------------------------------------------------------------------\u001b[0m",
            "\u001b[0;31mNameError\u001b[0m                                 Traceback (most recent call last)",
            "\u001b[0;32m<ipython-input-6-a8fd2941ede8>\u001b[0m in \u001b[0;36m<cell line: 1>\u001b[0;34m()\u001b[0m\n\u001b[1;32m      2\u001b[0m \u001b[0;34m\u001b[0m\u001b[0m\n\u001b[1;32m      3\u001b[0m     \u001b[0mprint\u001b[0m\u001b[0;34m(\u001b[0m\u001b[0;34m'-'\u001b[0m\u001b[0;34m*\u001b[0m\u001b[0;36m10\u001b[0m\u001b[0;34m)\u001b[0m\u001b[0;34m\u001b[0m\u001b[0;34m\u001b[0m\u001b[0m\n\u001b[0;32m----> 4\u001b[0;31m     \u001b[0mfunzione_1\u001b[0m\u001b[0;34m(\u001b[0m\u001b[0;34m)\u001b[0m\u001b[0;34m\u001b[0m\u001b[0;34m\u001b[0m\u001b[0m\n\u001b[0m\u001b[1;32m      5\u001b[0m \u001b[0;34m\u001b[0m\u001b[0m\n\u001b[1;32m      6\u001b[0m     \u001b[0mprint\u001b[0m\u001b[0;34m(\u001b[0m\u001b[0;34m'-'\u001b[0m\u001b[0;34m*\u001b[0m\u001b[0;36m10\u001b[0m\u001b[0;34m)\u001b[0m\u001b[0;34m\u001b[0m\u001b[0;34m\u001b[0m\u001b[0m\n",
            "\u001b[0;31mNameError\u001b[0m: name 'funzione_1' is not defined"
          ]
        }
      ],
      "source": [
        "if __name__=='__main__':\n",
        "\n",
        "    print('-'*10)\n",
        "    funzione_1()\n",
        "\n",
        "    print('-'*10)\n",
        "    funzione_2()\n",
        "\n",
        "    print('-'*10)\n",
        "    funzione_3()"
      ]
    },
    {
      "cell_type": "markdown",
      "metadata": {
        "id": "gkK4lOrZU1fS"
      },
      "source": [
        "Se eseguiamo lo script da terminale o eseguiamo il modulo stand alone **la sezione di test viene eseguita!**"
      ]
    },
    {
      "cell_type": "code",
      "execution_count": null,
      "metadata": {
        "id": "5DRQfkJzU1fS"
      },
      "outputs": [],
      "source": []
    }
  ],
  "metadata": {
    "colab": {
      "provenance": []
    },
    "kernelspec": {
      "display_name": "Python 3",
      "language": "python",
      "name": "python3"
    },
    "language_info": {
      "codemirror_mode": {
        "name": "ipython",
        "version": 3
      },
      "file_extension": ".py",
      "mimetype": "text/x-python",
      "name": "python",
      "nbconvert_exporter": "python",
      "pygments_lexer": "ipython3",
      "version": "3.13.0"
    }
  },
  "nbformat": 4,
  "nbformat_minor": 0
}
